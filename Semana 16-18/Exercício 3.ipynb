{
 "cells": [
  {
   "cell_type": "markdown",
   "metadata": {},
   "source": [
    "# Semana 16-18 - Exercício 3"
   ]
  },
  {
   "cell_type": "markdown",
   "metadata": {},
   "source": [
    "Para  o  sistema  anterior (Exercício 2),  implemente  um  controlador  PID,  efetuando  a  sintoniade  forma manual, com 𝑇𝑠=0,01[𝑠]."
   ]
  },
  {
   "cell_type": "markdown",
   "metadata": {},
   "source": [
    "# Bibliotecas"
   ]
  },
  {
   "cell_type": "code",
   "execution_count": 1,
   "metadata": {},
   "outputs": [],
   "source": [
    "#Bibliotecas\n",
    "from control.matlab import *\n",
    "import matplotlib.pyplot as plt\n",
    "import numpy as np"
   ]
  },
  {
   "cell_type": "markdown",
   "metadata": {},
   "source": [
    "# Funções"
   ]
  },
  {
   "cell_type": "code",
   "execution_count": 2,
   "metadata": {},
   "outputs": [],
   "source": [
    "def x_dot(t,x,u):\n",
    "    A = np.array([[-2.0,-0.9],[10.0,0.0]])\n",
    "    B = np.array([[-1.0],[0.0]])\n",
    "    xkp1 = A @ x + B @ u\n",
    "    return xkp1\n",
    "\n",
    "def rk4(tk,h,xk,uk):\n",
    "    xk = xk.reshape([2,1])\n",
    "    uk = uk.reshape([1,1])\n",
    "\n",
    "    k1 = x_dot(tk,xk,uk)\n",
    "    k2 = x_dot(tk+h/2.0,xk+h*k1/2.0,uk)\n",
    "    k3 = x_dot(tk+h/2.0,xk+h*k2/2.0,uk)\n",
    "    k4 = x_dot(tk+h,xk+h*k3,uk)\n",
    "\n",
    "    xkp1 = xk + (h/6.0)*(k1 + 2.0*k2 + 2.0*k3 + k4)\n",
    "    return xkp1.reshape([2,])"
   ]
  },
  {
   "cell_type": "code",
   "execution_count": 3,
   "metadata": {},
   "outputs": [
    {
     "name": "stderr",
     "output_type": "stream",
     "text": [
      "<ipython-input-2-7cbc5f4bdc0e>:16: RuntimeWarning: overflow encountered in add\n",
      "  xkp1 = xk + (h/6.0)*(k1 + 2.0*k2 + 2.0*k3 + k4)\n",
      "<ipython-input-3-763985db2bb2>:28: RuntimeWarning: invalid value encountered in matmul\n",
      "  y[k] = Gss.C @ x[:,k]\n",
      "<ipython-input-2-7cbc5f4bdc0e>:12: RuntimeWarning: invalid value encountered in add\n",
      "  k2 = x_dot(tk+h/2.0,xk+h*k1/2.0,uk)\n",
      "<ipython-input-2-7cbc5f4bdc0e>:4: RuntimeWarning: invalid value encountered in matmul\n",
      "  xkp1 = A @ x + B @ u\n"
     ]
    }
   ],
   "source": [
    "#Requisitos\n",
    "Ts = 0.01\n",
    "h = 1e-4\n",
    "maxT = 10\n",
    "mult = Ts/h\n",
    "t = np.arange(0,maxT,h)\n",
    "tu = np.arange(0,maxT,Ts)\n",
    "\n",
    "#Função de Transferência\n",
    "G = tf([9],[1,2,9])\n",
    "Gss = tf2ss(G)\n",
    "\n",
    "x = np.zeros([2,len(t)])\n",
    "u = np.zeros([len(tu)])\n",
    "r = np.ones([len(t)-1])\n",
    "y = np.zeros([len(t)-1])\n",
    "\n",
    "kmax = len(t)-1\n",
    "\n",
    "Kp = 32\n",
    "Ki = 128\n",
    "Kd = 2\n",
    "ekm1 = 0\n",
    "ukm1 = 0\n",
    "p = 0\n",
    "\n",
    "for k in range(kmax):\n",
    "    y[k] = Gss.C @ x[:,k]\n",
    "    if (k%mult)==0:\n",
    "        ek = r[k]-y[k]\n",
    "        u[p] = Kp * ek + ukm1 + (Ki*Ts/2)*(ek + ekm1) + (2*Kd/Ts)*(ek - ekm1) - ukm1\n",
    "        ekm1 = ek\n",
    "        ukm1 = u[p]\n",
    "        p += 1\n",
    "    x[:,k+1] = rk4(t[k],h,x[:,k],u[p-1])"
   ]
  },
  {
   "cell_type": "markdown",
   "metadata": {},
   "source": [
    "# Gráfico 1"
   ]
  },
  {
   "cell_type": "code",
   "execution_count": 9,
   "metadata": {},
   "outputs": [
    {
     "data": {
      "text/plain": [
       "Text(0, 0.5, 'x2')"
      ]
     },
     "execution_count": 9,
     "metadata": {},
     "output_type": "execute_result"
    },
    {
     "data": {
      "image/png": "[encoded data removed]",
      "text/plain": [
       "<Figure size 432x288 with 2 Axes>"
      ]
     },
     "metadata": {
      "needs_background": "light"
     },
     "output_type": "display_data"
    }
   ],
   "source": [
    "plt.figure('Figura 1')\n",
    "plt.subplot(2,1,1)\n",
    "plt.plot(t,x[0,:])\n",
    "plt.ylabel('x1')\n",
    "plt.subplot(2,1,2)\n",
    "plt.plot(t,x[1,:])\n",
    "plt.ylabel('x2')\n"
   ]
  },
  {
   "cell_type": "markdown",
   "metadata": {},
   "source": [
    "# Gráfico 2"
   ]
  },
  {
   "cell_type": "code",
   "execution_count": 10,
   "metadata": {},
   "outputs": [
    {
     "data": {
      "text/plain": [
       "Text(0, 0.5, 'y')"
      ]
     },
     "execution_count": 10,
     "metadata": {},
     "output_type": "execute_result"
    },
    {
     "data": {
      "image/png": "[encoded data removed]",
      "text/plain": [
       "<Figure size 432x288 with 1 Axes>"
      ]
     },
     "metadata": {
      "needs_background": "light"
     },
     "output_type": "display_data"
    }
   ],
   "source": [
    "plt.figure('Figura 2')\n",
    "plt.plot(t[0:-1],y,label='y')\n",
    "plt.plot(t[0:-1],r,label='r')\n",
    "plt.grid()\n",
    "plt.legend()\n",
    "plt.ylabel('y')"
   ]
  },
  {
   "cell_type": "markdown",
   "metadata": {},
   "source": [
    "# Gráfico 3"
   ]
  },
  {
   "cell_type": "code",
   "execution_count": 7,
   "metadata": {},
   "outputs": [
    {
     "data": {
      "image/png": "[encoded data removed]",
      "text/plain": [
       "<Figure size 432x288 with 1 Axes>"
      ]
     },
     "metadata": {
      "needs_background": "light"
     },
     "output_type": "display_data"
    }
   ],
   "source": [
    "plt.figure('Figura 3')\n",
    "plt.plot(tu[0:len(u)],u,label='u')\n",
    "plt.grid()\n",
    "plt.ylabel('u')\n",
    "plt.legend()\n",
    "plt.show()"
   ]
  }
 ],
 "metadata": {
  "kernelspec": {
   "display_name": "Python 3",
   "language": "python",
   "name": "python3"
  },
  "language_info": {
   "codemirror_mode": {
    "name": "ipython",
    "version": 3
   },
   "file_extension": ".py",
   "mimetype": "text/x-python",
   "name": "python",
   "nbconvert_exporter": "python",
   "pygments_lexer": "ipython3",
   "version": "3.8.5"
  }
 },
 "nbformat": 4,
 "nbformat_minor": 4
}
